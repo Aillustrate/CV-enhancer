{
 "cells": [
  {
   "cell_type": "markdown",
   "id": "ce9576ab-e6a1-48b4-920b-d5fd15f2647e",
   "metadata": {},
   "source": [
    "# Load data"
   ]
  },
  {
   "cell_type": "code",
   "execution_count": 12,
   "id": "1c360d4d-16d3-4293-9e14-2f52877ad011",
   "metadata": {},
   "outputs": [
    {
     "name": "stdout",
     "output_type": "stream",
     "text": [
      "fatal: destination path 'LLMmatch' already exists and is not an empty directory.\n"
     ]
    }
   ],
   "source": [
    "!git clone https://github.com/abdullinilgiz/LLMmatch\n",
    "import torch\n",
    "import sys\n",
    "sys.path.append(\"../\")\n",
    "from src.utils import save_matches\n",
    "import os\n",
    "from transformers import AutoModelForCausalLM, AutoTokenizer"
   ]
  },
  {
   "cell_type": "code",
   "execution_count": 13,
   "id": "1c4722fc-847f-479f-83bb-c3a6aff2b347",
   "metadata": {},
   "outputs": [
    {
     "ename": "FileNotFoundError",
     "evalue": "[Errno 2] No such file or directory: 'data/CVs/asu_tp.txt'",
     "output_type": "error",
     "traceback": [
      "\u001b[0;31m---------------------------------------------------------------------------\u001b[0m",
      "\u001b[0;31mFileNotFoundError\u001b[0m                         Traceback (most recent call last)",
      "\u001b[1;32m/home/karo-work/CV-enhancer/notebooks/generation.ipynb Cell 3\u001b[0m line \u001b[0;36m7\n\u001b[1;32m      <a href='vscode-notebook-cell://ssh-remote%2Bkaro-work/home/karo-work/CV-enhancer/notebooks/generation.ipynb#W3sdnNjb2RlLXJlbW90ZQ%3D%3D?line=0'>1</a>\u001b[0m jobs \u001b[39m=\u001b[39m [\n\u001b[1;32m      <a href='vscode-notebook-cell://ssh-remote%2Bkaro-work/home/karo-work/CV-enhancer/notebooks/generation.ipynb#W3sdnNjb2RlLXJlbW90ZQ%3D%3D?line=1'>2</a>\u001b[0m     job\u001b[39m.\u001b[39mreplace(\u001b[39m\"\u001b[39m\u001b[39m.txt\u001b[39m\u001b[39m\"\u001b[39m, \u001b[39m\"\u001b[39m\u001b[39m\"\u001b[39m)\n\u001b[1;32m      <a href='vscode-notebook-cell://ssh-remote%2Bkaro-work/home/karo-work/CV-enhancer/notebooks/generation.ipynb#W3sdnNjb2RlLXJlbW90ZQ%3D%3D?line=2'>3</a>\u001b[0m     \u001b[39mfor\u001b[39;00m job \u001b[39min\u001b[39;00m os\u001b[39m.\u001b[39mlistdir(os\u001b[39m.\u001b[39mpath\u001b[39m.\u001b[39mabspath(\u001b[39m\"\u001b[39m\u001b[39m.\u001b[39m\u001b[39m\"\u001b[39m)\u001b[39m+\u001b[39m\u001b[39m\"\u001b[39m\u001b[39m/LLMmatch/data/matches\u001b[39m\u001b[39m\"\u001b[39m)\n\u001b[1;32m      <a href='vscode-notebook-cell://ssh-remote%2Bkaro-work/home/karo-work/CV-enhancer/notebooks/generation.ipynb#W3sdnNjb2RlLXJlbW90ZQ%3D%3D?line=3'>4</a>\u001b[0m     \u001b[39mif\u001b[39;00m job\u001b[39m.\u001b[39mendswith(\u001b[39m\"\u001b[39m\u001b[39m.txt\u001b[39m\u001b[39m\"\u001b[39m)\n\u001b[1;32m      <a href='vscode-notebook-cell://ssh-remote%2Bkaro-work/home/karo-work/CV-enhancer/notebooks/generation.ipynb#W3sdnNjb2RlLXJlbW90ZQ%3D%3D?line=4'>5</a>\u001b[0m ]\n\u001b[1;32m      <a href='vscode-notebook-cell://ssh-remote%2Bkaro-work/home/karo-work/CV-enhancer/notebooks/generation.ipynb#W3sdnNjb2RlLXJlbW90ZQ%3D%3D?line=5'>6</a>\u001b[0m \u001b[39mfor\u001b[39;00m job \u001b[39min\u001b[39;00m jobs:\n\u001b[0;32m----> <a href='vscode-notebook-cell://ssh-remote%2Bkaro-work/home/karo-work/CV-enhancer/notebooks/generation.ipynb#W3sdnNjb2RlLXJlbW90ZQ%3D%3D?line=6'>7</a>\u001b[0m     save_matches(job)\n",
      "File \u001b[0;32m~/CV-enhancer/notebooks/../src/utils.py:66\u001b[0m, in \u001b[0;36msave_matches\u001b[0;34m(job, matches_dir, guidelines_path, urls_path)\u001b[0m\n\u001b[1;32m     64\u001b[0m vacancy_dir \u001b[39m=\u001b[39m os\u001b[39m.\u001b[39mpath\u001b[39m.\u001b[39mjoin(\u001b[39m\"\u001b[39m\u001b[39mdata\u001b[39m\u001b[39m\"\u001b[39m, \u001b[39m\"\u001b[39m\u001b[39mVacancies\u001b[39m\u001b[39m\"\u001b[39m, job)\n\u001b[1;32m     65\u001b[0m os\u001b[39m.\u001b[39mmakedirs(vacancy_dir, exist_ok\u001b[39m=\u001b[39m\u001b[39mTrue\u001b[39;00m)\n\u001b[0;32m---> 66\u001b[0m \u001b[39mwith\u001b[39;00m \u001b[39mopen\u001b[39;49m(cv_path, \u001b[39m\"\u001b[39;49m\u001b[39mw\u001b[39;49m\u001b[39m\"\u001b[39;49m) \u001b[39mas\u001b[39;00m f:\n\u001b[1;32m     67\u001b[0m     f\u001b[39m.\u001b[39mwrite(cv)\n\u001b[1;32m     68\u001b[0m \u001b[39mfor\u001b[39;00m i, (vacancy, guideline, url) \u001b[39min\u001b[39;00m \u001b[39menumerate\u001b[39m(\n\u001b[1;32m     69\u001b[0m         \u001b[39mlist\u001b[39m(\u001b[39mzip\u001b[39m(vacancies, guidelines, urls)), start\u001b[39m=\u001b[39m\u001b[39m1\u001b[39m\n\u001b[1;32m     70\u001b[0m ):\n",
      "\u001b[0;31mFileNotFoundError\u001b[0m: [Errno 2] No such file or directory: 'data/CVs/asu_tp.txt'"
     ]
    }
   ],
   "source": [
    "jobs = [\n",
    "    job.replace(\".txt\", \"\")\n",
    "    for job in os.listdir(\"/LLMmatch/data/matches\")\n",
    "    if job.endswith(\".txt\")\n",
    "]\n",
    "for job in jobs:\n",
    "    save_matches(job)"
   ]
  },
  {
   "cell_type": "markdown",
   "id": "90315f60-1575-4513-8593-eac0e0dc3a5a",
   "metadata": {},
   "source": [
    "# Pipeline"
   ]
  },
  {
   "cell_type": "code",
   "execution_count": null,
   "id": "f08cce5e-90d0-4eaa-953c-0852f5c2d872",
   "metadata": {},
   "outputs": [],
   "source": [
    "MODEL_NAME = \"meta-llama/Llama-2-7b-chat-hf\"\n",
    "# MODEL_NAME = 'mistralai/Mistral-7B-Instruct-v0.1'\n",
    "model = AutoModelForCausalLM.from_pretrained(\n",
    "    MODEL_NAME, torch_dtype=torch.float16, low_cpu_mem_usage=True\n",
    ")\n",
    "tokenizer = AutoTokenizer.from_pretrained(MODEL_NAME, use_fast=True)\n",
    "model.to(\"cpu\")"
   ]
  },
  {
   "cell_type": "code",
   "execution_count": 7,
   "id": "899db274-90a4-4d9e-9528-3bcc76608860",
   "metadata": {},
   "outputs": [],
   "source": [
    "from enhancer import CVEnhancer\n",
    "from pipeline import experiment"
   ]
  },
  {
   "cell_type": "code",
   "execution_count": null,
   "id": "6044f312-1411-49d1-a610-7294fa077225",
   "metadata": {},
   "outputs": [],
   "source": [
    "enhancer = CVEnhancer(model, tokenizer, MODEL_NAME, max_len=1000)\n",
    "jobs = [\n",
    "    job.replace(\".txt\", \"\")\n",
    "    for job in os.listdir(\"LLMmatch/data/matches\")\n",
    "    if job.endswith(\".txt\")\n",
    "]\n",
    "temperatures = (1.0, 1.25, 1.5, 1.75, 2.0)\n",
    "experiment(enhancer, jobs, temperatures=temperatures)"
   ]
  }
 ],
 "metadata": {
  "kernelspec": {
   "display_name": "Python 3 (ipykernel)",
   "language": "python",
   "name": "python3"
  },
  "language_info": {
   "codemirror_mode": {
    "name": "ipython",
    "version": 3
   },
   "file_extension": ".py",
   "mimetype": "text/x-python",
   "name": "python",
   "nbconvert_exporter": "python",
   "pygments_lexer": "ipython3",
   "version": "3.11.5"
  }
 },
 "nbformat": 4,
 "nbformat_minor": 5
}
