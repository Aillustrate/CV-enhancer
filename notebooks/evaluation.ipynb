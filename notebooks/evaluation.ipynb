{
 "cells": [
  {
   "cell_type": "markdown",
   "id": "13a4f1c5-172f-413b-9c49-f3a01020e189",
   "metadata": {},
   "source": [
    "# Rules"
   ]
  },
  {
   "cell_type": "code",
   "execution_count": 1,
   "id": "7ffe0eec-6dfa-42f4-ab92-e1b42b19e474",
   "metadata": {},
   "outputs": [
    {
     "name": "stdout",
     "output_type": "stream",
     "text": [
      "1. Адекватность: модель адекватно оценивает соответсвие резюме вакансии. Если резюме совсем не подходит к вакансии, она прямо говорит об этом.\n",
      "2. Достоверность (надежность): модель не оперирует информацией, которой нет в описании вакансии/резюме.\n",
      "3. Полезность: ответ не состоит из очевидных вещей, модель дает действительно ценные советы о том, какие темы можно изучить или как переформулировать резюме, для лучшего соответсвовия вакансии.\n",
      "4. Честность: модель не предлагает пользователю соврать о своих навыках. Однако онна может предложить изучить некоторые темы.\n",
      "5. Лингвистическая корректность: ответ не содержит орфографических, грамматических, пунктуационных ошибок.\n",
      "6. Связность: ответ логически связен. \n"
     ]
    }
   ],
   "source": [
    "with open('evaluation/rules.txt') as f:\n",
    "    rules = f.read()\n",
    "print(rules)"
   ]
  },
  {
   "cell_type": "markdown",
   "id": "1dac9006-6e39-4f4a-a4ed-ff4d4f5a9699",
   "metadata": {},
   "source": [
    "# Evaluation"
   ]
  },
  {
   "cell_type": "code",
   "execution_count": 3,
   "id": "1277d36a-5003-4567-8f16-a184315c8377",
   "metadata": {},
   "outputs": [],
   "source": [
    "import sys\n",
    "sys.path.append('../src')\n",
    "\n",
    "from evaluator import Evaluator"
   ]
  },
  {
   "cell_type": "code",
   "execution_count": null,
   "id": "697ac8b0-e82d-4dd7-9a08-c6cc02940667",
   "metadata": {},
   "outputs": [
    {
     "name": "stdout",
     "output_type": "stream",
     "text": [
      "CV: data/CVs/asu_tp.txt\n",
      "Vacancy:data/Vacancies/asu_tp/3.txt\n",
      "\n",
      "guidelines: Оценка 5/10: Кандидат имеет много опыта, часть из навыков совпадает с требованиями из вакансии, указан другой город, но наш кандидат готов к переезду, поэтому это не будет проблемой.\n",
      "\n",
      "First of all, your CV provides basic information like work experience and education, which is perfect. However, I suggest that you provide more details about your experience in the field of automation and control systems. Could you give some examples of the projects you have worked on and how you applied your knowledge of programming languages such as CoDeSys, Step7, and TIA Portal? Additionally, you mentioned that you are proficient in developing SCADA systems, but could you give more information about the software you are familiar with and the specific SCADA systems you have worked with?\n",
      "\n",
      "Secondly, you stated that you have worked on several projects in the field of automation and control systems, but you haven't provided any specific examples. Please do so, as this will help the employer understand how your skills match their needs.\n",
      "\n",
      "Thirdly, your CV doesn't give any indication of your skills in communication and teamwork. As the job description mentions that periods of commandering of about one week may occur, it is essential to showcase your ability to collaborate with your team and clients. Please add a few lines about your experience in these areas.\n",
      "\n",
      "Lastly, since the job is located in Belgrade and the salary range is specified, I assume that this is a location-specific job. Make sure that you mention how your current location can be an advantage and that you are willing to relocate if needed.\n",
      "\n",
      "Overall, your CV provides a good overview of your experience and education in automation and control systems. However, to increase your chances of getting hired, it is crucial to provide more details about your skills and experience in certain areas. Follow my suggestions, and your CV will be ready to present to potential employers!\n"
     ]
    }
   ],
   "source": [
    "Evaluator().run()"
   ]
  },
  {
   "cell_type": "markdown",
   "id": "f75afc57-616d-4433-9f23-bd7cdb0c5cbe",
   "metadata": {},
   "source": [
    "# Results"
   ]
  },
  {
   "cell_type": "code",
   "execution_count": 1,
   "id": "7b9e3899-b681-4591-9cb5-6e34651aeb8d",
   "metadata": {},
   "outputs": [],
   "source": [
    "import os\n",
    "import json\n",
    "import pandas as pd\n",
    "\n",
    "def aggregate_evaluations(eval_dir='evaluation/results'):\n",
    "    criteria = ['adequacy', 'reliability', 'usefulness', 'honesty', 'linguistic correctness', 'coherence']\n",
    "    agg_criteria = {criterion:'mean' for criterion in criteria}\n",
    "    all_evals = []\n",
    "    fnames = [fname for fname in os.listdir(eval_dir) if fname.endswith('.json')]\n",
    "    for i, fname in enumerate(fnames):\n",
    "        path = os.path.join(eval_dir, fname)\n",
    "        with open(path) as jf:\n",
    "            evals = json.load(jf)\n",
    "        for report_id, report in evals.items():\n",
    "            eval = {'id':report_id, 'annotator':i, **report}\n",
    "            all_evals.append(eval)\n",
    "    return pd.DataFrame(all_evals).groupby(['model', 'do_sample', 'temperature']).agg({'id':'count', **agg_criteria}).round(2)"
   ]
  },
  {
   "cell_type": "code",
   "execution_count": 2,
   "id": "a09ea336-19ab-4524-b0ff-2857c65c7e16",
   "metadata": {},
   "outputs": [
    {
     "data": {
      "text/html": [
       "<style type=\"text/css\">\n",
       "#T_1eb0e_row0_col1, #T_1eb0e_row0_col3, #T_1eb0e_row0_col4, #T_1eb0e_row0_col5, #T_1eb0e_row1_col5, #T_1eb0e_row2_col0, #T_1eb0e_row2_col2, #T_1eb0e_row2_col4, #T_1eb0e_row2_col5, #T_1eb0e_row5_col0, #T_1eb0e_row6_col2, #T_1eb0e_row6_col5, #T_1eb0e_row7_col4, #T_1eb0e_row7_col5, #T_1eb0e_row7_col6 {\n",
       "  background-color: green;\n",
       "}\n",
       "</style>\n",
       "<table id=\"T_1eb0e\">\n",
       "  <thead>\n",
       "    <tr>\n",
       "      <th class=\"blank\" >&nbsp;</th>\n",
       "      <th class=\"blank\" >&nbsp;</th>\n",
       "      <th class=\"blank level0\" >&nbsp;</th>\n",
       "      <th id=\"T_1eb0e_level0_col0\" class=\"col_heading level0 col0\" >id</th>\n",
       "      <th id=\"T_1eb0e_level0_col1\" class=\"col_heading level0 col1\" >adequacy</th>\n",
       "      <th id=\"T_1eb0e_level0_col2\" class=\"col_heading level0 col2\" >reliability</th>\n",
       "      <th id=\"T_1eb0e_level0_col3\" class=\"col_heading level0 col3\" >usefulness</th>\n",
       "      <th id=\"T_1eb0e_level0_col4\" class=\"col_heading level0 col4\" >honesty</th>\n",
       "      <th id=\"T_1eb0e_level0_col5\" class=\"col_heading level0 col5\" >linguistic correctness</th>\n",
       "      <th id=\"T_1eb0e_level0_col6\" class=\"col_heading level0 col6\" >coherence</th>\n",
       "    </tr>\n",
       "    <tr>\n",
       "      <th class=\"index_name level0\" >model</th>\n",
       "      <th class=\"index_name level1\" >do_sample</th>\n",
       "      <th class=\"index_name level2\" >temperature</th>\n",
       "      <th class=\"blank col0\" >&nbsp;</th>\n",
       "      <th class=\"blank col1\" >&nbsp;</th>\n",
       "      <th class=\"blank col2\" >&nbsp;</th>\n",
       "      <th class=\"blank col3\" >&nbsp;</th>\n",
       "      <th class=\"blank col4\" >&nbsp;</th>\n",
       "      <th class=\"blank col5\" >&nbsp;</th>\n",
       "      <th class=\"blank col6\" >&nbsp;</th>\n",
       "    </tr>\n",
       "  </thead>\n",
       "  <tbody>\n",
       "    <tr>\n",
       "      <th id=\"T_1eb0e_level0_row0\" class=\"row_heading level0 row0\" rowspan=\"6\">meta-llama/Llama-2-7b-chat-hf</th>\n",
       "      <th id=\"T_1eb0e_level1_row0\" class=\"row_heading level1 row0\" >False</th>\n",
       "      <th id=\"T_1eb0e_level2_row0\" class=\"row_heading level2 row0\" >1.000000</th>\n",
       "      <td id=\"T_1eb0e_row0_col0\" class=\"data row0 col0\" >4</td>\n",
       "      <td id=\"T_1eb0e_row0_col1\" class=\"data row0 col1\" >4.750000</td>\n",
       "      <td id=\"T_1eb0e_row0_col2\" class=\"data row0 col2\" >4.250000</td>\n",
       "      <td id=\"T_1eb0e_row0_col3\" class=\"data row0 col3\" >4.500000</td>\n",
       "      <td id=\"T_1eb0e_row0_col4\" class=\"data row0 col4\" >5.000000</td>\n",
       "      <td id=\"T_1eb0e_row0_col5\" class=\"data row0 col5\" >5.000000</td>\n",
       "      <td id=\"T_1eb0e_row0_col6\" class=\"data row0 col6\" >4.000000</td>\n",
       "    </tr>\n",
       "    <tr>\n",
       "      <th id=\"T_1eb0e_level1_row1\" class=\"row_heading level1 row1\" rowspan=\"5\">True</th>\n",
       "      <th id=\"T_1eb0e_level2_row1\" class=\"row_heading level2 row1\" >1.000000</th>\n",
       "      <td id=\"T_1eb0e_row1_col0\" class=\"data row1 col0\" >4</td>\n",
       "      <td id=\"T_1eb0e_row1_col1\" class=\"data row1 col1\" >3.750000</td>\n",
       "      <td id=\"T_1eb0e_row1_col2\" class=\"data row1 col2\" >3.500000</td>\n",
       "      <td id=\"T_1eb0e_row1_col3\" class=\"data row1 col3\" >4.000000</td>\n",
       "      <td id=\"T_1eb0e_row1_col4\" class=\"data row1 col4\" >4.250000</td>\n",
       "      <td id=\"T_1eb0e_row1_col5\" class=\"data row1 col5\" >5.000000</td>\n",
       "      <td id=\"T_1eb0e_row1_col6\" class=\"data row1 col6\" >4.500000</td>\n",
       "    </tr>\n",
       "    <tr>\n",
       "      <th id=\"T_1eb0e_level2_row2\" class=\"row_heading level2 row2\" >1.250000</th>\n",
       "      <td id=\"T_1eb0e_row2_col0\" class=\"data row2 col0\" >6</td>\n",
       "      <td id=\"T_1eb0e_row2_col1\" class=\"data row2 col1\" >2.830000</td>\n",
       "      <td id=\"T_1eb0e_row2_col2\" class=\"data row2 col2\" >4.330000</td>\n",
       "      <td id=\"T_1eb0e_row2_col3\" class=\"data row2 col3\" >2.500000</td>\n",
       "      <td id=\"T_1eb0e_row2_col4\" class=\"data row2 col4\" >5.000000</td>\n",
       "      <td id=\"T_1eb0e_row2_col5\" class=\"data row2 col5\" >5.000000</td>\n",
       "      <td id=\"T_1eb0e_row2_col6\" class=\"data row2 col6\" >4.830000</td>\n",
       "    </tr>\n",
       "    <tr>\n",
       "      <th id=\"T_1eb0e_level2_row3\" class=\"row_heading level2 row3\" >1.500000</th>\n",
       "      <td id=\"T_1eb0e_row3_col0\" class=\"data row3 col0\" >4</td>\n",
       "      <td id=\"T_1eb0e_row3_col1\" class=\"data row3 col1\" >2.750000</td>\n",
       "      <td id=\"T_1eb0e_row3_col2\" class=\"data row3 col2\" >2.750000</td>\n",
       "      <td id=\"T_1eb0e_row3_col3\" class=\"data row3 col3\" >3.250000</td>\n",
       "      <td id=\"T_1eb0e_row3_col4\" class=\"data row3 col4\" >3.750000</td>\n",
       "      <td id=\"T_1eb0e_row3_col5\" class=\"data row3 col5\" >3.000000</td>\n",
       "      <td id=\"T_1eb0e_row3_col6\" class=\"data row3 col6\" >3.000000</td>\n",
       "    </tr>\n",
       "    <tr>\n",
       "      <th id=\"T_1eb0e_level2_row4\" class=\"row_heading level2 row4\" >1.750000</th>\n",
       "      <td id=\"T_1eb0e_row4_col0\" class=\"data row4 col0\" >4</td>\n",
       "      <td id=\"T_1eb0e_row4_col1\" class=\"data row4 col1\" >3.250000</td>\n",
       "      <td id=\"T_1eb0e_row4_col2\" class=\"data row4 col2\" >3.500000</td>\n",
       "      <td id=\"T_1eb0e_row4_col3\" class=\"data row4 col3\" >3.750000</td>\n",
       "      <td id=\"T_1eb0e_row4_col4\" class=\"data row4 col4\" >4.000000</td>\n",
       "      <td id=\"T_1eb0e_row4_col5\" class=\"data row4 col5\" >3.250000</td>\n",
       "      <td id=\"T_1eb0e_row4_col6\" class=\"data row4 col6\" >2.250000</td>\n",
       "    </tr>\n",
       "    <tr>\n",
       "      <th id=\"T_1eb0e_level2_row5\" class=\"row_heading level2 row5\" >2.000000</th>\n",
       "      <td id=\"T_1eb0e_row5_col0\" class=\"data row5 col0\" >6</td>\n",
       "      <td id=\"T_1eb0e_row5_col1\" class=\"data row5 col1\" >2.500000</td>\n",
       "      <td id=\"T_1eb0e_row5_col2\" class=\"data row5 col2\" >2.330000</td>\n",
       "      <td id=\"T_1eb0e_row5_col3\" class=\"data row5 col3\" >2.500000</td>\n",
       "      <td id=\"T_1eb0e_row5_col4\" class=\"data row5 col4\" >3.170000</td>\n",
       "      <td id=\"T_1eb0e_row5_col5\" class=\"data row5 col5\" >2.170000</td>\n",
       "      <td id=\"T_1eb0e_row5_col6\" class=\"data row5 col6\" >1.830000</td>\n",
       "    </tr>\n",
       "    <tr>\n",
       "      <th id=\"T_1eb0e_level0_row6\" class=\"row_heading level0 row6\" rowspan=\"6\">mistralai/Mistral-7B-Instruct-v0.1</th>\n",
       "      <th id=\"T_1eb0e_level1_row6\" class=\"row_heading level1 row6\" >False</th>\n",
       "      <th id=\"T_1eb0e_level2_row6\" class=\"row_heading level2 row6\" >1.000000</th>\n",
       "      <td id=\"T_1eb0e_row6_col0\" class=\"data row6 col0\" >3</td>\n",
       "      <td id=\"T_1eb0e_row6_col1\" class=\"data row6 col1\" >3.670000</td>\n",
       "      <td id=\"T_1eb0e_row6_col2\" class=\"data row6 col2\" >4.330000</td>\n",
       "      <td id=\"T_1eb0e_row6_col3\" class=\"data row6 col3\" >3.330000</td>\n",
       "      <td id=\"T_1eb0e_row6_col4\" class=\"data row6 col4\" >4.670000</td>\n",
       "      <td id=\"T_1eb0e_row6_col5\" class=\"data row6 col5\" >5.000000</td>\n",
       "      <td id=\"T_1eb0e_row6_col6\" class=\"data row6 col6\" >4.000000</td>\n",
       "    </tr>\n",
       "    <tr>\n",
       "      <th id=\"T_1eb0e_level1_row7\" class=\"row_heading level1 row7\" rowspan=\"5\">True</th>\n",
       "      <th id=\"T_1eb0e_level2_row7\" class=\"row_heading level2 row7\" >1.000000</th>\n",
       "      <td id=\"T_1eb0e_row7_col0\" class=\"data row7 col0\" >2</td>\n",
       "      <td id=\"T_1eb0e_row7_col1\" class=\"data row7 col1\" >3.500000</td>\n",
       "      <td id=\"T_1eb0e_row7_col2\" class=\"data row7 col2\" >4.000000</td>\n",
       "      <td id=\"T_1eb0e_row7_col3\" class=\"data row7 col3\" >4.000000</td>\n",
       "      <td id=\"T_1eb0e_row7_col4\" class=\"data row7 col4\" >5.000000</td>\n",
       "      <td id=\"T_1eb0e_row7_col5\" class=\"data row7 col5\" >5.000000</td>\n",
       "      <td id=\"T_1eb0e_row7_col6\" class=\"data row7 col6\" >5.000000</td>\n",
       "    </tr>\n",
       "    <tr>\n",
       "      <th id=\"T_1eb0e_level2_row8\" class=\"row_heading level2 row8\" >1.250000</th>\n",
       "      <td id=\"T_1eb0e_row8_col0\" class=\"data row8 col0\" >1</td>\n",
       "      <td id=\"T_1eb0e_row8_col1\" class=\"data row8 col1\" >0.000000</td>\n",
       "      <td id=\"T_1eb0e_row8_col2\" class=\"data row8 col2\" >0.000000</td>\n",
       "      <td id=\"T_1eb0e_row8_col3\" class=\"data row8 col3\" >0.000000</td>\n",
       "      <td id=\"T_1eb0e_row8_col4\" class=\"data row8 col4\" >0.000000</td>\n",
       "      <td id=\"T_1eb0e_row8_col5\" class=\"data row8 col5\" >0.000000</td>\n",
       "      <td id=\"T_1eb0e_row8_col6\" class=\"data row8 col6\" >0.000000</td>\n",
       "    </tr>\n",
       "    <tr>\n",
       "      <th id=\"T_1eb0e_level2_row9\" class=\"row_heading level2 row9\" >1.500000</th>\n",
       "      <td id=\"T_1eb0e_row9_col0\" class=\"data row9 col0\" >3</td>\n",
       "      <td id=\"T_1eb0e_row9_col1\" class=\"data row9 col1\" >1.670000</td>\n",
       "      <td id=\"T_1eb0e_row9_col2\" class=\"data row9 col2\" >1.330000</td>\n",
       "      <td id=\"T_1eb0e_row9_col3\" class=\"data row9 col3\" >1.670000</td>\n",
       "      <td id=\"T_1eb0e_row9_col4\" class=\"data row9 col4\" >2.000000</td>\n",
       "      <td id=\"T_1eb0e_row9_col5\" class=\"data row9 col5\" >3.000000</td>\n",
       "      <td id=\"T_1eb0e_row9_col6\" class=\"data row9 col6\" >2.330000</td>\n",
       "    </tr>\n",
       "    <tr>\n",
       "      <th id=\"T_1eb0e_level2_row10\" class=\"row_heading level2 row10\" >1.750000</th>\n",
       "      <td id=\"T_1eb0e_row10_col0\" class=\"data row10 col0\" >3</td>\n",
       "      <td id=\"T_1eb0e_row10_col1\" class=\"data row10 col1\" >1.000000</td>\n",
       "      <td id=\"T_1eb0e_row10_col2\" class=\"data row10 col2\" >0.000000</td>\n",
       "      <td id=\"T_1eb0e_row10_col3\" class=\"data row10 col3\" >0.000000</td>\n",
       "      <td id=\"T_1eb0e_row10_col4\" class=\"data row10 col4\" >0.000000</td>\n",
       "      <td id=\"T_1eb0e_row10_col5\" class=\"data row10 col5\" >1.670000</td>\n",
       "      <td id=\"T_1eb0e_row10_col6\" class=\"data row10 col6\" >1.670000</td>\n",
       "    </tr>\n",
       "    <tr>\n",
       "      <th id=\"T_1eb0e_level2_row11\" class=\"row_heading level2 row11\" >2.000000</th>\n",
       "      <td id=\"T_1eb0e_row11_col0\" class=\"data row11 col0\" >4</td>\n",
       "      <td id=\"T_1eb0e_row11_col1\" class=\"data row11 col1\" >0.000000</td>\n",
       "      <td id=\"T_1eb0e_row11_col2\" class=\"data row11 col2\" >2.000000</td>\n",
       "      <td id=\"T_1eb0e_row11_col3\" class=\"data row11 col3\" >0.250000</td>\n",
       "      <td id=\"T_1eb0e_row11_col4\" class=\"data row11 col4\" >2.000000</td>\n",
       "      <td id=\"T_1eb0e_row11_col5\" class=\"data row11 col5\" >1.750000</td>\n",
       "      <td id=\"T_1eb0e_row11_col6\" class=\"data row11 col6\" >0.250000</td>\n",
       "    </tr>\n",
       "  </tbody>\n",
       "</table>\n"
      ],
      "text/plain": [
       "<pandas.io.formats.style.Styler at 0x7f74cd55b220>"
      ]
     },
     "execution_count": 2,
     "metadata": {},
     "output_type": "execute_result"
    }
   ],
   "source": [
    "results = aggregate_evaluations()\n",
    "results.style.highlight_max(color='green', axis=0)"
   ]
  },
  {
   "cell_type": "code",
   "execution_count": null,
   "id": "9bee64aa-1c2e-4027-b140-c68057e6dde8",
   "metadata": {},
   "outputs": [],
   "source": []
  }
 ],
 "metadata": {
  "kernelspec": {
   "display_name": "Python 3 (ipykernel)",
   "language": "python",
   "name": "python3"
  },
  "language_info": {
   "codemirror_mode": {
    "name": "ipython",
    "version": 3
   },
   "file_extension": ".py",
   "mimetype": "text/x-python",
   "name": "python",
   "nbconvert_exporter": "python",
   "pygments_lexer": "ipython3",
   "version": "3.9.18"
  }
 },
 "nbformat": 4,
 "nbformat_minor": 5
}
