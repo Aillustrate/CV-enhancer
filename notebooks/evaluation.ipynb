{
 "cells": [
  {
   "cell_type": "markdown",
   "id": "13a4f1c5-172f-413b-9c49-f3a01020e189",
   "metadata": {},
   "source": [
    "# Rules"
   ]
  },
  {
   "cell_type": "code",
   "execution_count": 4,
   "id": "7ffe0eec-6dfa-42f4-ab92-e1b42b19e474",
   "metadata": {},
   "outputs": [
    {
     "name": "stdout",
     "output_type": "stream",
     "text": [
      "1. Адекватность: модель адекватно оценивает соответсвие резюме вакансии. Если резюме совсем не подходит к вакансии, она прямо говорит об этом.\n",
      "2. Достоверность (надежность): модель не оперирует информацией, которой нет в описании вакансии/резюме.\n",
      "3. Полезность: ответ не состоит из очевидных вещей, модель дает действительно ценные советы о том, какие темы можно изучить или как переформулировать резюме, для лучшего соответсвовия вакансии.\n",
      "4. Честность: модель не предлагает пользователю соврать о своих навыках. Однако онна может предложить изучить некоторые темы.\n",
      "5. Лингвистическая корректность: ответ не содержит орфографических, грамматических, пунктуационных ошибок.\n",
      "6. Связность: ответ логически связен. \n"
     ]
    }
   ],
   "source": [
    "with open('evaluation/rules.txt') as f:\n",
    "    rules = f.read()\n",
    "print(rules)"
   ]
  },
  {
   "cell_type": "markdown",
   "id": "1dac9006-6e39-4f4a-a4ed-ff4d4f5a9699",
   "metadata": {},
   "source": [
    "# Evaluation"
   ]
  },
  {
   "cell_type": "code",
   "execution_count": 5,
   "id": "1277d36a-5003-4567-8f16-a184315c8377",
   "metadata": {},
   "outputs": [],
   "source": [
    "import sys\n",
    "sys.path.append('src')\n",
    "\n",
    "from evaluator import Evaluator"
   ]
  },
  {
   "cell_type": "code",
   "execution_count": 6,
   "id": "697ac8b0-e82d-4dd7-9a08-c6cc02940667",
   "metadata": {},
   "outputs": [
    {
     "name": "stdout",
     "output_type": "stream",
     "text": [
      "CV: data/CVs/sale_manager.txt\n",
      "Vacancy:data/Vacancies/sale_manager/1.txt\n",
      "\n",
      "VACANCY URL: (https://hh.ru/vacancy/90576280?from=vacancy_search_list&hhtmFrom=vacancy_search_list&query=%D0%BC%D0%B5%D0%BD%D0%B5%D0%B4%D0%B6%D0%B5%D1%80%20%D0%BF%D0%BE%20%D0%BF%D1%80%D0%BE%D0%B4%D0%B0%D0%B6%D0%B0%D0%BC)\n",
      "Firstly, let's start with the work experience section. It is great that you have 5 years and 7 months of experience as a regional manager for sales. However, I suggest you highlight more specific details about your achievements in this role. For example, you could mention the exact numbers of sales you have made, the percentage of growth in sales during your tenure, or any notable projects you have led. This will help the employer understand your impact and value as a sales professional.\n",
      "\n",
      "Next, let's move on to your education. While it is good that you have a degree in psychology and pedagogy, I suggest you consider adding more relevant courses or certifications in sales, marketing, or business. This will demonstrate your commitment to developing your skills and knowledge in the field.\n",
      "\n",
      "Now, let's talk about the hard and soft skills you have. It is great that you have experience in active sales, cold calling, and direct sales. However, I suggest you also highlight your skills in other areas such as business communication, negotiation, and team management. These skills are essential for a sales manager role, and it will be beneficial to showcase them in your CV.\n",
      "\n",
      "Moving on to the job description, it is clear that the employer is looking for a sales manager who can sell their platform's advertising space to potential clients. Based on your CV, it seems that you have experience in sales and marketing, which could be an asset for this role. However, I suggest you focus more on your experience in direct sales and cold calling, as these are the key skills required for this job.\n",
      "\n",
      "Finally, let's talk about your location. While it is great that you are located in Moscow, it is essential to mention your willingness to relocate for the right opportunity. Many employers are open to hiring candidates who are willing to relocate for the job, so it is worth mentioning in your CV.\n",
      "\n",
      "In conclusion, I suggest you revise your CV to highlight your achievements, add more relevant courses or certifications, and focus more on your experience in direct sales and cold calling. By doing so, you will be more competitive in the job market and increase your chances of getting hired for the job you want.\n",
      "\n",
      "Remember, it is essential to tailor your CV to the specific job you are applying for, so make sure you read the job description carefully and adjust your CV accordingly. Good luck with your job search!\n"
     ]
    },
    {
     "ename": "KeyboardInterrupt",
     "evalue": "Interrupted by user",
     "output_type": "error",
     "traceback": [
      "\u001b[0;31m---------------------------------------------------------------------------\u001b[0m",
      "\u001b[0;31mKeyboardInterrupt\u001b[0m                         Traceback (most recent call last)",
      "Cell \u001b[0;32mIn[6], line 1\u001b[0m\n\u001b[0;32m----> 1\u001b[0m \u001b[43mEvaluator\u001b[49m\u001b[43m(\u001b[49m\u001b[43m)\u001b[49m\u001b[38;5;241;43m.\u001b[39;49m\u001b[43mrun\u001b[49m\u001b[43m(\u001b[49m\u001b[43m)\u001b[49m\n",
      "File \u001b[0;32m~/Documents/CV-enhancement/src/evaluator.py:64\u001b[0m, in \u001b[0;36mrun\u001b[0;34m(self)\u001b[0m\n\u001b[1;32m     62\u001b[0m     if not report_id in self.evaluated:\n\u001b[1;32m     63\u001b[0m         self.evaluate_report(report_id)\n\u001b[0;32m---> 64\u001b[0m print('All texts were evaluated. Thank you!')\n",
      "File \u001b[0;32m~/Documents/CV-enhancement/src/evaluator.py:51\u001b[0m, in \u001b[0;36mevaluate_report\u001b[0;34m(self, report_id)\u001b[0m\n\u001b[1;32m     49\u001b[0m for criterion, (min_score, max_score) in self.CRITERIA.items():\n\u001b[1;32m     50\u001b[0m     score = int(input(f'{criterion} ({min_score}-{max_score})'))\n\u001b[0;32m---> 51\u001b[0m     scores.update({criterion:score})\n\u001b[1;32m     52\u001b[0m self.evaluated.update({report_id: {**report, **scores}})\n\u001b[1;32m     53\u001b[0m with open(self.eval_path, 'w') as jf:\n",
      "File \u001b[0;32m~/miniconda3/envs/myenv/lib/python3.9/site-packages/ipykernel/kernelbase.py:1175\u001b[0m, in \u001b[0;36mKernel.raw_input\u001b[0;34m(self, prompt)\u001b[0m\n\u001b[1;32m   1171\u001b[0m \u001b[38;5;28;01mif\u001b[39;00m \u001b[38;5;129;01mnot\u001b[39;00m \u001b[38;5;28mself\u001b[39m\u001b[38;5;241m.\u001b[39m_allow_stdin:\n\u001b[1;32m   1172\u001b[0m     \u001b[38;5;28;01mraise\u001b[39;00m StdinNotImplementedError(\n\u001b[1;32m   1173\u001b[0m         \u001b[38;5;124m\"\u001b[39m\u001b[38;5;124mraw_input was called, but this frontend does not support input requests.\u001b[39m\u001b[38;5;124m\"\u001b[39m\n\u001b[1;32m   1174\u001b[0m     )\n\u001b[0;32m-> 1175\u001b[0m \u001b[38;5;28;01mreturn\u001b[39;00m \u001b[38;5;28;43mself\u001b[39;49m\u001b[38;5;241;43m.\u001b[39;49m\u001b[43m_input_request\u001b[49m\u001b[43m(\u001b[49m\n\u001b[1;32m   1176\u001b[0m \u001b[43m    \u001b[49m\u001b[38;5;28;43mstr\u001b[39;49m\u001b[43m(\u001b[49m\u001b[43mprompt\u001b[49m\u001b[43m)\u001b[49m\u001b[43m,\u001b[49m\n\u001b[1;32m   1177\u001b[0m \u001b[43m    \u001b[49m\u001b[38;5;28;43mself\u001b[39;49m\u001b[38;5;241;43m.\u001b[39;49m\u001b[43m_parent_ident\u001b[49m\u001b[43m[\u001b[49m\u001b[38;5;124;43m\"\u001b[39;49m\u001b[38;5;124;43mshell\u001b[39;49m\u001b[38;5;124;43m\"\u001b[39;49m\u001b[43m]\u001b[49m\u001b[43m,\u001b[49m\n\u001b[1;32m   1178\u001b[0m \u001b[43m    \u001b[49m\u001b[38;5;28;43mself\u001b[39;49m\u001b[38;5;241;43m.\u001b[39;49m\u001b[43mget_parent\u001b[49m\u001b[43m(\u001b[49m\u001b[38;5;124;43m\"\u001b[39;49m\u001b[38;5;124;43mshell\u001b[39;49m\u001b[38;5;124;43m\"\u001b[39;49m\u001b[43m)\u001b[49m\u001b[43m,\u001b[49m\n\u001b[1;32m   1179\u001b[0m \u001b[43m    \u001b[49m\u001b[43mpassword\u001b[49m\u001b[38;5;241;43m=\u001b[39;49m\u001b[38;5;28;43;01mFalse\u001b[39;49;00m\u001b[43m,\u001b[49m\n\u001b[1;32m   1180\u001b[0m \u001b[43m\u001b[49m\u001b[43m)\u001b[49m\n",
      "File \u001b[0;32m~/miniconda3/envs/myenv/lib/python3.9/site-packages/ipykernel/kernelbase.py:1217\u001b[0m, in \u001b[0;36mKernel._input_request\u001b[0;34m(self, prompt, ident, parent, password)\u001b[0m\n\u001b[1;32m   1214\u001b[0m             \u001b[38;5;28;01mbreak\u001b[39;00m\n\u001b[1;32m   1215\u001b[0m \u001b[38;5;28;01mexcept\u001b[39;00m \u001b[38;5;167;01mKeyboardInterrupt\u001b[39;00m:\n\u001b[1;32m   1216\u001b[0m     \u001b[38;5;66;03m# re-raise KeyboardInterrupt, to truncate traceback\u001b[39;00m\n\u001b[0;32m-> 1217\u001b[0m     \u001b[38;5;28;01mraise\u001b[39;00m \u001b[38;5;167;01mKeyboardInterrupt\u001b[39;00m(\u001b[38;5;124m\"\u001b[39m\u001b[38;5;124mInterrupted by user\u001b[39m\u001b[38;5;124m\"\u001b[39m) \u001b[38;5;28;01mfrom\u001b[39;00m \u001b[38;5;28mNone\u001b[39m\n\u001b[1;32m   1218\u001b[0m \u001b[38;5;28;01mexcept\u001b[39;00m \u001b[38;5;167;01mException\u001b[39;00m:\n\u001b[1;32m   1219\u001b[0m     \u001b[38;5;28mself\u001b[39m\u001b[38;5;241m.\u001b[39mlog\u001b[38;5;241m.\u001b[39mwarning(\u001b[38;5;124m\"\u001b[39m\u001b[38;5;124mInvalid Message:\u001b[39m\u001b[38;5;124m\"\u001b[39m, exc_info\u001b[38;5;241m=\u001b[39m\u001b[38;5;28;01mTrue\u001b[39;00m)\n",
      "\u001b[0;31mKeyboardInterrupt\u001b[0m: Interrupted by user"
     ]
    }
   ],
   "source": [
    "Evaluator().run()"
   ]
  },
  {
   "cell_type": "markdown",
   "id": "f75afc57-616d-4433-9f23-bd7cdb0c5cbe",
   "metadata": {},
   "source": [
    "# Results"
   ]
  },
  {
   "cell_type": "code",
   "execution_count": 7,
   "id": "7b9e3899-b681-4591-9cb5-6e34651aeb8d",
   "metadata": {},
   "outputs": [],
   "source": [
    "import os\n",
    "import json\n",
    "import pandas as pd\n",
    "\n",
    "def aggregate_evaluations(eval_dir='evaluation/results'):\n",
    "    criteria = ['adequacy', 'reliability', 'usefulness', 'honesty', 'linguistic correctness', 'coherence']\n",
    "    agg_criteria = {criterion:'mean' for criterion in criteria}\n",
    "    all_evals = []\n",
    "    fnames = [fname for fname in os.listdir(eval_dir) if fname.endswith('.json')]\n",
    "    for i, fname in enumerate(fnames):\n",
    "        path = os.path.join(eval_dir, fname)\n",
    "        with open(path) as jf:\n",
    "            evals = json.load(jf)\n",
    "        for report_id, report in evals.items():\n",
    "            eval = {'id':report_id, 'annotator':i, **report}\n",
    "            all_evals.append(eval)\n",
    "    return pd.DataFrame(all_evals).groupby(['model', 'do_sample', 'temperature']).agg({'id':'count', **agg_criteria}).round(2)"
   ]
  },
  {
   "cell_type": "code",
   "execution_count": 8,
   "id": "a09ea336-19ab-4524-b0ff-2857c65c7e16",
   "metadata": {},
   "outputs": [
    {
     "data": {
      "text/html": [
       "<style type=\"text/css\">\n",
       "#T_25c44_row0_col1, #T_25c44_row0_col3, #T_25c44_row0_col4, #T_25c44_row0_col5, #T_25c44_row1_col5, #T_25c44_row2_col0, #T_25c44_row2_col2, #T_25c44_row2_col4, #T_25c44_row2_col5, #T_25c44_row5_col0, #T_25c44_row6_col2, #T_25c44_row6_col5, #T_25c44_row7_col4, #T_25c44_row7_col5, #T_25c44_row7_col6 {\n",
       "  background-color: green;\n",
       "}\n",
       "</style>\n",
       "<table id=\"T_25c44\">\n",
       "  <thead>\n",
       "    <tr>\n",
       "      <th class=\"blank\" >&nbsp;</th>\n",
       "      <th class=\"blank\" >&nbsp;</th>\n",
       "      <th class=\"blank level0\" >&nbsp;</th>\n",
       "      <th id=\"T_25c44_level0_col0\" class=\"col_heading level0 col0\" >id</th>\n",
       "      <th id=\"T_25c44_level0_col1\" class=\"col_heading level0 col1\" >adequacy</th>\n",
       "      <th id=\"T_25c44_level0_col2\" class=\"col_heading level0 col2\" >reliability</th>\n",
       "      <th id=\"T_25c44_level0_col3\" class=\"col_heading level0 col3\" >usefulness</th>\n",
       "      <th id=\"T_25c44_level0_col4\" class=\"col_heading level0 col4\" >honesty</th>\n",
       "      <th id=\"T_25c44_level0_col5\" class=\"col_heading level0 col5\" >linguistic correctness</th>\n",
       "      <th id=\"T_25c44_level0_col6\" class=\"col_heading level0 col6\" >coherence</th>\n",
       "    </tr>\n",
       "    <tr>\n",
       "      <th class=\"index_name level0\" >model</th>\n",
       "      <th class=\"index_name level1\" >do_sample</th>\n",
       "      <th class=\"index_name level2\" >temperature</th>\n",
       "      <th class=\"blank col0\" >&nbsp;</th>\n",
       "      <th class=\"blank col1\" >&nbsp;</th>\n",
       "      <th class=\"blank col2\" >&nbsp;</th>\n",
       "      <th class=\"blank col3\" >&nbsp;</th>\n",
       "      <th class=\"blank col4\" >&nbsp;</th>\n",
       "      <th class=\"blank col5\" >&nbsp;</th>\n",
       "      <th class=\"blank col6\" >&nbsp;</th>\n",
       "    </tr>\n",
       "  </thead>\n",
       "  <tbody>\n",
       "    <tr>\n",
       "      <th id=\"T_25c44_level0_row0\" class=\"row_heading level0 row0\" rowspan=\"6\">meta-llama/Llama-2-7b-chat-hf</th>\n",
       "      <th id=\"T_25c44_level1_row0\" class=\"row_heading level1 row0\" >False</th>\n",
       "      <th id=\"T_25c44_level2_row0\" class=\"row_heading level2 row0\" >1.000000</th>\n",
       "      <td id=\"T_25c44_row0_col0\" class=\"data row0 col0\" >4</td>\n",
       "      <td id=\"T_25c44_row0_col1\" class=\"data row0 col1\" >4.750000</td>\n",
       "      <td id=\"T_25c44_row0_col2\" class=\"data row0 col2\" >4.250000</td>\n",
       "      <td id=\"T_25c44_row0_col3\" class=\"data row0 col3\" >4.500000</td>\n",
       "      <td id=\"T_25c44_row0_col4\" class=\"data row0 col4\" >5.000000</td>\n",
       "      <td id=\"T_25c44_row0_col5\" class=\"data row0 col5\" >5.000000</td>\n",
       "      <td id=\"T_25c44_row0_col6\" class=\"data row0 col6\" >4.000000</td>\n",
       "    </tr>\n",
       "    <tr>\n",
       "      <th id=\"T_25c44_level1_row1\" class=\"row_heading level1 row1\" rowspan=\"5\">True</th>\n",
       "      <th id=\"T_25c44_level2_row1\" class=\"row_heading level2 row1\" >1.000000</th>\n",
       "      <td id=\"T_25c44_row1_col0\" class=\"data row1 col0\" >4</td>\n",
       "      <td id=\"T_25c44_row1_col1\" class=\"data row1 col1\" >3.750000</td>\n",
       "      <td id=\"T_25c44_row1_col2\" class=\"data row1 col2\" >3.500000</td>\n",
       "      <td id=\"T_25c44_row1_col3\" class=\"data row1 col3\" >4.000000</td>\n",
       "      <td id=\"T_25c44_row1_col4\" class=\"data row1 col4\" >4.250000</td>\n",
       "      <td id=\"T_25c44_row1_col5\" class=\"data row1 col5\" >5.000000</td>\n",
       "      <td id=\"T_25c44_row1_col6\" class=\"data row1 col6\" >4.500000</td>\n",
       "    </tr>\n",
       "    <tr>\n",
       "      <th id=\"T_25c44_level2_row2\" class=\"row_heading level2 row2\" >1.250000</th>\n",
       "      <td id=\"T_25c44_row2_col0\" class=\"data row2 col0\" >6</td>\n",
       "      <td id=\"T_25c44_row2_col1\" class=\"data row2 col1\" >2.830000</td>\n",
       "      <td id=\"T_25c44_row2_col2\" class=\"data row2 col2\" >4.330000</td>\n",
       "      <td id=\"T_25c44_row2_col3\" class=\"data row2 col3\" >2.500000</td>\n",
       "      <td id=\"T_25c44_row2_col4\" class=\"data row2 col4\" >5.000000</td>\n",
       "      <td id=\"T_25c44_row2_col5\" class=\"data row2 col5\" >5.000000</td>\n",
       "      <td id=\"T_25c44_row2_col6\" class=\"data row2 col6\" >4.830000</td>\n",
       "    </tr>\n",
       "    <tr>\n",
       "      <th id=\"T_25c44_level2_row3\" class=\"row_heading level2 row3\" >1.500000</th>\n",
       "      <td id=\"T_25c44_row3_col0\" class=\"data row3 col0\" >4</td>\n",
       "      <td id=\"T_25c44_row3_col1\" class=\"data row3 col1\" >2.750000</td>\n",
       "      <td id=\"T_25c44_row3_col2\" class=\"data row3 col2\" >2.750000</td>\n",
       "      <td id=\"T_25c44_row3_col3\" class=\"data row3 col3\" >3.250000</td>\n",
       "      <td id=\"T_25c44_row3_col4\" class=\"data row3 col4\" >3.750000</td>\n",
       "      <td id=\"T_25c44_row3_col5\" class=\"data row3 col5\" >3.000000</td>\n",
       "      <td id=\"T_25c44_row3_col6\" class=\"data row3 col6\" >3.000000</td>\n",
       "    </tr>\n",
       "    <tr>\n",
       "      <th id=\"T_25c44_level2_row4\" class=\"row_heading level2 row4\" >1.750000</th>\n",
       "      <td id=\"T_25c44_row4_col0\" class=\"data row4 col0\" >4</td>\n",
       "      <td id=\"T_25c44_row4_col1\" class=\"data row4 col1\" >3.250000</td>\n",
       "      <td id=\"T_25c44_row4_col2\" class=\"data row4 col2\" >3.500000</td>\n",
       "      <td id=\"T_25c44_row4_col3\" class=\"data row4 col3\" >3.750000</td>\n",
       "      <td id=\"T_25c44_row4_col4\" class=\"data row4 col4\" >4.000000</td>\n",
       "      <td id=\"T_25c44_row4_col5\" class=\"data row4 col5\" >3.250000</td>\n",
       "      <td id=\"T_25c44_row4_col6\" class=\"data row4 col6\" >2.250000</td>\n",
       "    </tr>\n",
       "    <tr>\n",
       "      <th id=\"T_25c44_level2_row5\" class=\"row_heading level2 row5\" >2.000000</th>\n",
       "      <td id=\"T_25c44_row5_col0\" class=\"data row5 col0\" >6</td>\n",
       "      <td id=\"T_25c44_row5_col1\" class=\"data row5 col1\" >2.500000</td>\n",
       "      <td id=\"T_25c44_row5_col2\" class=\"data row5 col2\" >2.330000</td>\n",
       "      <td id=\"T_25c44_row5_col3\" class=\"data row5 col3\" >2.500000</td>\n",
       "      <td id=\"T_25c44_row5_col4\" class=\"data row5 col4\" >3.170000</td>\n",
       "      <td id=\"T_25c44_row5_col5\" class=\"data row5 col5\" >2.170000</td>\n",
       "      <td id=\"T_25c44_row5_col6\" class=\"data row5 col6\" >1.830000</td>\n",
       "    </tr>\n",
       "    <tr>\n",
       "      <th id=\"T_25c44_level0_row6\" class=\"row_heading level0 row6\" rowspan=\"6\">mistralai/Mistral-7B-Instruct-v0.1</th>\n",
       "      <th id=\"T_25c44_level1_row6\" class=\"row_heading level1 row6\" >False</th>\n",
       "      <th id=\"T_25c44_level2_row6\" class=\"row_heading level2 row6\" >1.000000</th>\n",
       "      <td id=\"T_25c44_row6_col0\" class=\"data row6 col0\" >3</td>\n",
       "      <td id=\"T_25c44_row6_col1\" class=\"data row6 col1\" >3.670000</td>\n",
       "      <td id=\"T_25c44_row6_col2\" class=\"data row6 col2\" >4.330000</td>\n",
       "      <td id=\"T_25c44_row6_col3\" class=\"data row6 col3\" >3.330000</td>\n",
       "      <td id=\"T_25c44_row6_col4\" class=\"data row6 col4\" >4.670000</td>\n",
       "      <td id=\"T_25c44_row6_col5\" class=\"data row6 col5\" >5.000000</td>\n",
       "      <td id=\"T_25c44_row6_col6\" class=\"data row6 col6\" >4.000000</td>\n",
       "    </tr>\n",
       "    <tr>\n",
       "      <th id=\"T_25c44_level1_row7\" class=\"row_heading level1 row7\" rowspan=\"5\">True</th>\n",
       "      <th id=\"T_25c44_level2_row7\" class=\"row_heading level2 row7\" >1.000000</th>\n",
       "      <td id=\"T_25c44_row7_col0\" class=\"data row7 col0\" >2</td>\n",
       "      <td id=\"T_25c44_row7_col1\" class=\"data row7 col1\" >3.500000</td>\n",
       "      <td id=\"T_25c44_row7_col2\" class=\"data row7 col2\" >4.000000</td>\n",
       "      <td id=\"T_25c44_row7_col3\" class=\"data row7 col3\" >4.000000</td>\n",
       "      <td id=\"T_25c44_row7_col4\" class=\"data row7 col4\" >5.000000</td>\n",
       "      <td id=\"T_25c44_row7_col5\" class=\"data row7 col5\" >5.000000</td>\n",
       "      <td id=\"T_25c44_row7_col6\" class=\"data row7 col6\" >5.000000</td>\n",
       "    </tr>\n",
       "    <tr>\n",
       "      <th id=\"T_25c44_level2_row8\" class=\"row_heading level2 row8\" >1.250000</th>\n",
       "      <td id=\"T_25c44_row8_col0\" class=\"data row8 col0\" >1</td>\n",
       "      <td id=\"T_25c44_row8_col1\" class=\"data row8 col1\" >0.000000</td>\n",
       "      <td id=\"T_25c44_row8_col2\" class=\"data row8 col2\" >0.000000</td>\n",
       "      <td id=\"T_25c44_row8_col3\" class=\"data row8 col3\" >0.000000</td>\n",
       "      <td id=\"T_25c44_row8_col4\" class=\"data row8 col4\" >0.000000</td>\n",
       "      <td id=\"T_25c44_row8_col5\" class=\"data row8 col5\" >0.000000</td>\n",
       "      <td id=\"T_25c44_row8_col6\" class=\"data row8 col6\" >0.000000</td>\n",
       "    </tr>\n",
       "    <tr>\n",
       "      <th id=\"T_25c44_level2_row9\" class=\"row_heading level2 row9\" >1.500000</th>\n",
       "      <td id=\"T_25c44_row9_col0\" class=\"data row9 col0\" >3</td>\n",
       "      <td id=\"T_25c44_row9_col1\" class=\"data row9 col1\" >1.670000</td>\n",
       "      <td id=\"T_25c44_row9_col2\" class=\"data row9 col2\" >1.330000</td>\n",
       "      <td id=\"T_25c44_row9_col3\" class=\"data row9 col3\" >1.670000</td>\n",
       "      <td id=\"T_25c44_row9_col4\" class=\"data row9 col4\" >2.000000</td>\n",
       "      <td id=\"T_25c44_row9_col5\" class=\"data row9 col5\" >3.000000</td>\n",
       "      <td id=\"T_25c44_row9_col6\" class=\"data row9 col6\" >2.330000</td>\n",
       "    </tr>\n",
       "    <tr>\n",
       "      <th id=\"T_25c44_level2_row10\" class=\"row_heading level2 row10\" >1.750000</th>\n",
       "      <td id=\"T_25c44_row10_col0\" class=\"data row10 col0\" >3</td>\n",
       "      <td id=\"T_25c44_row10_col1\" class=\"data row10 col1\" >1.000000</td>\n",
       "      <td id=\"T_25c44_row10_col2\" class=\"data row10 col2\" >0.000000</td>\n",
       "      <td id=\"T_25c44_row10_col3\" class=\"data row10 col3\" >0.000000</td>\n",
       "      <td id=\"T_25c44_row10_col4\" class=\"data row10 col4\" >0.000000</td>\n",
       "      <td id=\"T_25c44_row10_col5\" class=\"data row10 col5\" >1.670000</td>\n",
       "      <td id=\"T_25c44_row10_col6\" class=\"data row10 col6\" >1.670000</td>\n",
       "    </tr>\n",
       "    <tr>\n",
       "      <th id=\"T_25c44_level2_row11\" class=\"row_heading level2 row11\" >2.000000</th>\n",
       "      <td id=\"T_25c44_row11_col0\" class=\"data row11 col0\" >4</td>\n",
       "      <td id=\"T_25c44_row11_col1\" class=\"data row11 col1\" >0.000000</td>\n",
       "      <td id=\"T_25c44_row11_col2\" class=\"data row11 col2\" >2.000000</td>\n",
       "      <td id=\"T_25c44_row11_col3\" class=\"data row11 col3\" >0.250000</td>\n",
       "      <td id=\"T_25c44_row11_col4\" class=\"data row11 col4\" >2.000000</td>\n",
       "      <td id=\"T_25c44_row11_col5\" class=\"data row11 col5\" >1.750000</td>\n",
       "      <td id=\"T_25c44_row11_col6\" class=\"data row11 col6\" >0.250000</td>\n",
       "    </tr>\n",
       "  </tbody>\n",
       "</table>\n"
      ],
      "text/plain": [
       "<pandas.io.formats.style.Styler at 0x7ff97812dc10>"
      ]
     },
     "execution_count": 8,
     "metadata": {},
     "output_type": "execute_result"
    }
   ],
   "source": [
    "results = aggregate_evaluations()\n",
    "results.style.highlight_max(color='green', axis=0)"
   ]
  },
  {
   "cell_type": "code",
   "execution_count": null,
   "id": "9bee64aa-1c2e-4027-b140-c68057e6dde8",
   "metadata": {},
   "outputs": [],
   "source": []
  }
 ],
 "metadata": {
  "kernelspec": {
   "display_name": "Python 3 (ipykernel)",
   "language": "python",
   "name": "python3"
  },
  "language_info": {
   "codemirror_mode": {
    "name": "ipython",
    "version": 3
   },
   "file_extension": ".py",
   "mimetype": "text/x-python",
   "name": "python",
   "nbconvert_exporter": "python",
   "pygments_lexer": "ipython3",
   "version": "3.9.18"
  }
 },
 "nbformat": 4,
 "nbformat_minor": 5
}
