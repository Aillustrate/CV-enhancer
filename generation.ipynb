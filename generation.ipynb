{
 "cells": [
  {
   "cell_type": "code",
   "execution_count": null,
   "id": "f08cce5e-90d0-4eaa-953c-0852f5c2d872",
   "metadata": {},
   "outputs": [],
   "source": [
    "import torch\n",
    "from transformers import AutoModelForCausalLM, AutoTokenizer\n",
    "\n",
    "MODEL_NAME = 'meta-llama/Llama-2-7b-chat-hf'\n",
    "#MODEL_NAME = 'mistralai/Mistral-7B-Instruct-v0.1'\n",
    "model = AutoModelForCausalLM.from_pretrained(MODEL_NAME, torch_dtype=torch.float16,\n",
    "                                                 low_cpu_mem_usage=True)\n",
    "tokenizer = AutoTokenizer.from_pretrained(MODEL_NAME, use_fast=True)\n",
    "model.to('cuda');"
   ]
  },
  {
   "cell_type": "code",
   "execution_count": null,
   "id": "899db274-90a4-4d9e-9528-3bcc76608860",
   "metadata": {},
   "outputs": [],
   "source": [
    "import sys\n",
    "sys.path.append('src')\n",
    "\n",
    "from enhancer import CVEnhancer\n",
    "from pipeline import experiment"
   ]
  },
  {
   "cell_type": "code",
   "execution_count": null,
   "id": "6044f312-1411-49d1-a610-7294fa077225",
   "metadata": {},
   "outputs": [],
   "source": [
    "enhancer = CVEnhancer(model, tokenizer, max_len=1000)\n",
    "jobs = [job.replace('.txt', '') for job in os.listdir('LLMmatch/data/matches') if job.endswith('.txt')]\n",
    "temperatures=(1.0, 1.25, 1.5, 1.75, 2.0)\n",
    "experiment(enhancer, jobs, temperatures=temperatures)"
   ]
  }
 ],
 "metadata": {
  "kernelspec": {
   "display_name": "Python 3 (ipykernel)",
   "language": "python",
   "name": "python3"
  },
  "language_info": {
   "codemirror_mode": {
    "name": "ipython",
    "version": 3
   },
   "file_extension": ".py",
   "mimetype": "text/x-python",
   "name": "python",
   "nbconvert_exporter": "python",
   "pygments_lexer": "ipython3",
   "version": "3.9.18"
  }
 },
 "nbformat": 4,
 "nbformat_minor": 5
}
